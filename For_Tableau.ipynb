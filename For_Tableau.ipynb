{
 "cells": [
  {
   "cell_type": "code",
   "execution_count": 1,
   "metadata": {},
   "outputs": [],
   "source": [
    "import pandas as pd\n",
    "import os"
   ]
  },
  {
   "cell_type": "code",
   "execution_count": 6,
   "metadata": {},
   "outputs": [],
   "source": [
    "DATA_FOLDER = 'Data'\n",
    "MOVIES_RATINGS_FILE = os.path.join(DATA_FOLDER, 'movies_ratings.csv') \n",
    "movies_ratings = pd.read_csv(MOVIES_RATINGS_FILE)\n",
    "file_path = \"movies_ratings_exploded.csv\""
   ]
  },
  {
   "cell_type": "code",
   "execution_count": null,
   "metadata": {},
   "outputs": [],
   "source": [
    "# Split the genres into a list\n",
    "movies_ratings['genres'] = movies_ratings['genres'].str.split('|')\n",
    "\n",
    "# Explode the genres column to create one row per genre\n",
    "movies_ratings_exploded = movies_ratings.explode('genres')\n",
    "\n",
    "# Reset index for cleanliness\n",
    "movies_ratings_exploded = movies_ratings_exploded.reset_index(drop=True)\n",
    "\n",
    "#Extract year\n",
    "movies_ratings_exploded['year'] = movies_ratings_exploded['title'].str.extract(r'\\((\\d{4})\\)')\n",
    "\n",
    "output_path = os.path.join(DATA_FOLDER, file_path)\n",
    "movies_ratings_exploded.to_csv(output_path, index=False)"
   ]
  },
  {
   "cell_type": "code",
   "execution_count": 21,
   "metadata": {},
   "outputs": [
    {
     "name": "stdout",
     "output_type": "stream",
     "text": [
      "Data preprocessing complete. Files saved as: movies_processed.csv, ratings_processed.csv, new_movies_processed.csv\n"
     ]
    }
   ],
   "source": [
    "import pandas as pd\n",
    "\n",
    "DATA_FOLDER = 'Data'\n",
    "MOVIES = os.path.join(DATA_FOLDER, 'movies.csv') \n",
    "RATINGS = os.path.join(DATA_FOLDER, 'ratings.csv') \n",
    "NEW_MOVIES = os.path.join(DATA_FOLDER, 'Top_100_Trending_Movies_2025.csv')\n",
    "\n",
    "# Load datasets\n",
    "movies = pd.read_csv(MOVIES)\n",
    "ratings = pd.read_csv(RATINGS)\n",
    "new_movies = pd.read_csv(NEW_MOVIES)\n",
    "def parse_box_office(value):\n",
    "    if pd.isna(value):\n",
    "        return 0  # Handle NaN, though not present in your data\n",
    "    value = value.replace('$', '').strip()\n",
    "    if 'billion' in value.lower():\n",
    "        return float(value.replace(' billion', '')) * 1000\n",
    "    elif 'million' in value.lower():\n",
    "        return float(value.replace(' million', ''))\n",
    "    return 0\n",
    "\n",
    "# 1. Movies: Split genres into a separate table for easier Tableau analysis\n",
    "movies['genres'] = movies['genres'].str.split('|')\n",
    "movies_expanded = movies.explode('genres').reset_index(drop=True)\n",
    "movies_expanded.to_csv('Data/Tableau/movies_processed.csv', index=False)\n",
    "\n",
    "# 2. Ratings: Convert timestamp to datetime\n",
    "ratings['timestamp'] = pd.to_datetime(ratings['timestamp'], unit='s')\n",
    "ratings.to_csv('Data/Tableau/ratings_processed.csv', index=False)\n",
    "\n",
    "# 3. New Movies: Clean and convert Box Office Prediction to numeric\n",
    "new_movies = new_movies.drop(columns=['Unnamed: 15'])  # Remove empty column\n",
    "#new_movies['Box Office Prediction'] = new_movies['Box Office Prediction'].str.replace('$', '').str.replace(' million', '').str.replace(' billion', '')\n",
    "new_movies['Box Office Prediction'] = new_movies['Box Office Prediction'].apply(parse_box_office)  # Handle million/billion\n",
    "new_movies['Release Date'] = pd.to_datetime(new_movies['Release Date'], format='%d/%m/%Y')\n",
    "new_movies.to_csv('Data/Tableau/new_movies_processed.csv', index=False)\n",
    "\n",
    "print(\"Data preprocessing complete. Files saved as: movies_processed.csv, ratings_processed.csv, new_movies_processed.csv\")"
   ]
  },
  {
   "cell_type": "code",
   "execution_count": null,
   "metadata": {},
   "outputs": [],
   "source": []
  }
 ],
 "metadata": {
  "kernelspec": {
   "display_name": ".venv",
   "language": "python",
   "name": "python3"
  },
  "language_info": {
   "codemirror_mode": {
    "name": "ipython",
    "version": 3
   },
   "file_extension": ".py",
   "mimetype": "text/x-python",
   "name": "python",
   "nbconvert_exporter": "python",
   "pygments_lexer": "ipython3",
   "version": "3.10.16"
  }
 },
 "nbformat": 4,
 "nbformat_minor": 2
}
